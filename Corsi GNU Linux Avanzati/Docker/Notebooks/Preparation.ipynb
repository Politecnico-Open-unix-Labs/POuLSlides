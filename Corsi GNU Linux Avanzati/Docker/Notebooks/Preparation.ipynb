{
 "cells": [
  {
   "cell_type": "markdown",
   "metadata": {},
   "source": [
    "# Start webserver"
   ]
  },
  {
   "cell_type": "code",
   "execution_count": null,
   "metadata": {
    "collapsed": false
   },
   "outputs": [],
   "source": [
    "# cd ../Slides; python -m http.server 8000"
   ]
  },
  {
   "cell_type": "markdown",
   "metadata": {},
   "source": [
    "# Open necessary files"
   ]
  },
  {
   "cell_type": "markdown",
   "metadata": {},
   "source": [
    "Up1-Docker:\n",
    "\n",
    "- Dockerfile\n",
    "- genconfig.sh\n",
    "- entrypoint.sh\n",
    "- config.js.template\n",
    "- server.js.template\n",
    "\n",
    "Mattermost-docker-compose:\n",
    "- docker-compose.yml"
   ]
  },
  {
   "cell_type": "code",
   "execution_count": 4,
   "metadata": {
    "collapsed": false
   },
   "outputs": [
    {
     "name": "stdout",
     "output_type": "stream",
     "text": []
    }
   ],
   "source": [
    "cd ../Repos; \n",
    "subl3 -n Mattermost-docker-compose/docker-compose.yml Up1-docker/*"
   ]
  },
  {
   "cell_type": "markdown",
   "metadata": {},
   "source": [
    "# Cleanup before the demos"
   ]
  },
  {
   "cell_type": "markdown",
   "metadata": {},
   "source": [
    "Stop all containers"
   ]
  },
  {
   "cell_type": "code",
   "execution_count": 2,
   "metadata": {
    "collapsed": false
   },
   "outputs": [
    {
     "name": "stdout",
     "output_type": "stream",
     "text": []
    }
   ],
   "source": [
    "if [ -n \"$(docker ps --filter status=running -q)\" ]; then \n",
    "echo \"Stopping:\";\n",
    "docker ps --filter status=running --format \"{{.Names}} ({{.Image}})\"; \n",
    "docker stop $(docker ps --filter status=running -q) 1>/dev/null;\n",
    "fi;"
   ]
  },
  {
   "cell_type": "markdown",
   "metadata": {},
   "source": [
    "Delete all stopped containers"
   ]
  },
  {
   "cell_type": "code",
   "execution_count": 5,
   "metadata": {
    "collapsed": false
   },
   "outputs": [
    {
     "name": "stdout",
     "output_type": "stream",
     "text": [
      "Removing:\r\n",
      "drunk_mcclintock (alpine)\r\n"
     ]
    }
   ],
   "source": [
    "if [ -n \"$(docker ps -qf status=exited)\" ]; then \n",
    "echo \"Removing:\";\n",
    "docker ps --filter status=exited --format \"{{.Names}} ({{.Image}})\"; \n",
    "docker rm $(docker ps -qf \"status=exited\") 1>/dev/null; \n",
    "fi;"
   ]
  },
  {
   "cell_type": "markdown",
   "metadata": {},
   "source": [
    "Delete images"
   ]
  },
  {
   "cell_type": "code",
   "execution_count": 6,
   "metadata": {
    "collapsed": false
   },
   "outputs": [
    {
     "name": "stdout",
     "output_type": "stream",
     "text": [
      "Untagged: alpine:latest\r\n",
      "Deleted: sha256:13e1761bf172304ecf9b3fe05a653ceb7540973525e8ef83fb16c650b5410a08\r\n",
      "Deleted: sha256:8f01a53880b9b96424f0034d75102ed915cc2125d887c3b186a8122be08c09c0\r\n"
     ]
    }
   ],
   "source": [
    "docker rmi alpine"
   ]
  },
  {
   "cell_type": "code",
   "execution_count": null,
   "metadata": {
    "collapsed": true
   },
   "outputs": [],
   "source": [
    "docker rmi up1"
   ]
  },
  {
   "cell_type": "code",
   "execution_count": null,
   "metadata": {
    "collapsed": true
   },
   "outputs": [],
   "source": [
    "docker rmi fcremo/up1"
   ]
  },
  {
   "cell_type": "markdown",
   "metadata": {},
   "source": [
    "Delete custom networks"
   ]
  },
  {
   "cell_type": "code",
   "execution_count": 3,
   "metadata": {
    "collapsed": false
   },
   "outputs": [
    {
     "name": "stdout",
     "output_type": "stream",
     "text": []
    }
   ],
   "source": [
    "docker network rm mattermost-net"
   ]
  },
  {
   "cell_type": "markdown",
   "metadata": {},
   "source": [
    "Delete temporary files"
   ]
  },
  {
   "cell_type": "code",
   "execution_count": 2,
   "metadata": {
    "collapsed": false
   },
   "outputs": [
    {
     "name": "stdout",
     "output_type": "stream",
     "text": []
    }
   ],
   "source": [
    "rm -rf /tmp/postgres* /tmp/mattermost"
   ]
  }
 ],
 "metadata": {
  "kernelspec": {
   "display_name": "Bash",
   "language": "bash",
   "name": "bash"
  },
  "language_info": {
   "codemirror_mode": "shell",
   "file_extension": ".sh",
   "mimetype": "text/x-sh",
   "name": "bash"
  }
 },
 "nbformat": 4,
 "nbformat_minor": 0
}
